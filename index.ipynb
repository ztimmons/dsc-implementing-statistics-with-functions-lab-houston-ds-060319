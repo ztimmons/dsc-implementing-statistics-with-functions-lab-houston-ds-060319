{
 "cells": [
  {
   "cell_type": "markdown",
   "metadata": {},
   "source": [
    "# Implementing Statistics with Functions - Lab\n",
    "\n",
    "## Introduction \n",
    "In this lab you'll dive deep into calculating the measures of central tendency and dispersion introduced in previous lessons. You will implement the code the formulas for these functions in python which will require you to use the programming skills that you have gained in the other sections of the module. Let's get started!\n",
    "\n",
    "## Objectives\n",
    "\n",
    "You will be able to:\n",
    "* Create functions to model measures of central tendency and dispersion\n",
    "* Perform basic statistical analysis of given data using measures of central tendency and dispersion. \n",
    "\n",
    "## Dataset\n",
    "\n",
    "For this lab, we'll use the [NHIS dataset](http://people.ucsc.edu/~cdobkin/NHIS%202007%20data.csv), which contains weights, heights, and some other attributes for a number of surveyed individuals. The context of this survey is outside the scope this lab, so we'll just go ahead and load the heights column as a list for us to run some simple statistical experiments. We'll use the pandas library to import the data into our python environment. This process will be covered in detail in the next section. For now, we'll do this part for you to give you a head start.  \n",
    "\n",
    "Run the cell below to import the data. "
   ]
  },
  {
   "cell_type": "code",
   "execution_count": 7,
   "metadata": {},
   "outputs": [
    {
     "data": {
      "text/html": [
       "<div>\n",
       "<style scoped>\n",
       "    .dataframe tbody tr th:only-of-type {\n",
       "        vertical-align: middle;\n",
       "    }\n",
       "\n",
       "    .dataframe tbody tr th {\n",
       "        vertical-align: top;\n",
       "    }\n",
       "\n",
       "    .dataframe thead th {\n",
       "        text-align: right;\n",
       "    }\n",
       "</style>\n",
       "<table border=\"1\" class=\"dataframe\">\n",
       "  <thead>\n",
       "    <tr style=\"text-align: right;\">\n",
       "      <th></th>\n",
       "      <th>HHX</th>\n",
       "      <th>FMX</th>\n",
       "      <th>FPX</th>\n",
       "      <th>SEX</th>\n",
       "      <th>BMI</th>\n",
       "      <th>SLEEP</th>\n",
       "      <th>educ</th>\n",
       "      <th>height</th>\n",
       "      <th>weight</th>\n",
       "    </tr>\n",
       "  </thead>\n",
       "  <tbody>\n",
       "    <tr>\n",
       "      <th>0</th>\n",
       "      <td>16</td>\n",
       "      <td>1</td>\n",
       "      <td>2</td>\n",
       "      <td>1</td>\n",
       "      <td>33.36</td>\n",
       "      <td>8</td>\n",
       "      <td>16</td>\n",
       "      <td>74</td>\n",
       "      <td>260</td>\n",
       "    </tr>\n",
       "    <tr>\n",
       "      <th>1</th>\n",
       "      <td>20</td>\n",
       "      <td>1</td>\n",
       "      <td>1</td>\n",
       "      <td>1</td>\n",
       "      <td>26.54</td>\n",
       "      <td>7</td>\n",
       "      <td>14</td>\n",
       "      <td>70</td>\n",
       "      <td>185</td>\n",
       "    </tr>\n",
       "    <tr>\n",
       "      <th>2</th>\n",
       "      <td>69</td>\n",
       "      <td>1</td>\n",
       "      <td>2</td>\n",
       "      <td>2</td>\n",
       "      <td>32.13</td>\n",
       "      <td>7</td>\n",
       "      <td>9</td>\n",
       "      <td>61</td>\n",
       "      <td>170</td>\n",
       "    </tr>\n",
       "    <tr>\n",
       "      <th>3</th>\n",
       "      <td>87</td>\n",
       "      <td>1</td>\n",
       "      <td>1</td>\n",
       "      <td>1</td>\n",
       "      <td>26.62</td>\n",
       "      <td>8</td>\n",
       "      <td>14</td>\n",
       "      <td>68</td>\n",
       "      <td>175</td>\n",
       "    </tr>\n",
       "    <tr>\n",
       "      <th>4</th>\n",
       "      <td>88</td>\n",
       "      <td>1</td>\n",
       "      <td>1</td>\n",
       "      <td>2</td>\n",
       "      <td>27.13</td>\n",
       "      <td>8</td>\n",
       "      <td>13</td>\n",
       "      <td>66</td>\n",
       "      <td>168</td>\n",
       "    </tr>\n",
       "  </tbody>\n",
       "</table>\n",
       "</div>"
      ],
      "text/plain": [
       "   HHX  FMX  FPX  SEX    BMI  SLEEP  educ  height  weight\n",
       "0   16    1    2    1  33.36      8    16      74     260\n",
       "1   20    1    1    1  26.54      7    14      70     185\n",
       "2   69    1    2    2  32.13      7     9      61     170\n",
       "3   87    1    1    1  26.62      8    14      68     175\n",
       "4   88    1    1    2  27.13      8    13      66     168"
      ]
     },
     "execution_count": 7,
     "metadata": {},
     "output_type": "execute_result"
    }
   ],
   "source": [
    "import pandas as pd\n",
    "df = pd.read_csv('nhis.csv')\n",
    "height = list(df['height']) #We are only measuring the height column which is why we take a \n",
    "#variable height here by just looking at the height column\n",
    "df.head()\n",
    "\n",
    "#for testing\n",
    "#print(height) will return a list of height\n",
    "#print(list(df['height])) will return the same value "
   ]
  },
  {
   "cell_type": "markdown",
   "metadata": {},
   "source": [
    "We are only interested in the height column, so we saved as a list and stored in in the variable `height` in the cell above. \n",
    "\n",
    "In the cell below:\n",
    "\n",
    "* Print out the number of items in `height`\n",
    "* Slice and print out the first 10 items from `height`"
   ]
  },
  {
   "cell_type": "code",
   "execution_count": 8,
   "metadata": {
    "scrolled": true
   },
   "outputs": [
    {
     "name": "stdout",
     "output_type": "stream",
     "text": [
      "4785\n",
      "[74, 70, 61, 68, 66, 98, 99, 70, 65, 64]\n"
     ]
    }
   ],
   "source": [
    "print(len(height))\n",
    "print(height[0:10])\n",
    "# Expected Output: 4785\n",
    " # Expected Output: [74, 70, 61, 68, 66, 98, 99, 70, 65, 64]"
   ]
  },
  {
   "cell_type": "markdown",
   "metadata": {},
   "source": [
    "So around 4700 records of height, that's great. Next, we'll try plotting some basic **_Histograms_** for these records. \n",
    "\n",
    "## Plotting Histograms\n",
    "\n",
    "We'll begin by importing the `pyplot` module from the library `matplotlib` and setting an alias of `plt` for it (so that we only have to type `plt.` instead of `matplotlib.pyplot.` each time we want to use it).  Note that `plt` is considered the **_Standard Alias_** for matplotlib.\n",
    "\n",
    "Run the cell below to import matplotlib and use it to create a histogram of our `height` data, with 8 different bins. "
   ]
  },
  {
   "cell_type": "code",
   "execution_count": 9,
   "metadata": {},
   "outputs": [],
   "source": [
    "# Import matplotlib and plot histogram for height data\n",
    "import matplotlib.pyplot as plt\n",
    "%matplotlib inline  \n",
    "# ^^This is a 'magic command' built into jupyter notebooks. We use it so that the visualization displays \n",
    "# in the notebook directly, instead of in a separate window.  "
   ]
  },
  {
   "cell_type": "markdown",
   "metadata": {},
   "source": [
    "Next, we'll use matplotlib to create a histogram by passing in our data, as well as the parameter `bins=8`."
   ]
  },
  {
   "cell_type": "code",
   "execution_count": 10,
   "metadata": {},
   "outputs": [
    {
     "data": {
      "text/plain": [
       "(array([ 917., 1972., 1230.,  228.,    0.,    0.,    0.,  438.]),\n",
       " array([59., 64., 69., 74., 79., 84., 89., 94., 99.]),\n",
       " <a list of 8 Patch objects>)"
      ]
     },
     "execution_count": 10,
     "metadata": {},
     "output_type": "execute_result"
    },
    {
     "data": {
      "image/png": "[encoded data removed]",
      "text/plain": [
       "<Figure size 432x288 with 1 Axes>"
      ]
     },
     "metadata": {
      "needs_background": "light"
     },
     "output_type": "display_data"
    }
   ],
   "source": [
    "# Expected output below\n",
    "plt.hist(height, bins=8)"
   ]
  },
  {
   "cell_type": "markdown",
   "metadata": {},
   "source": [
    "Do you spot anything unusual above? Some outliers, maybe?\n",
    "\n",
    "## Measures of Central Tendency: Calculating the Mean"
   ]
  },
  {
   "cell_type": "markdown",
   "metadata": {},
   "source": [
    "We're just beginning to dig into the data stored in `height`. We'll begin by writing a function to calculate the mean of the data.  Recall the formula for calculating mean:\n",
    "\n",
    "$$ \\Large \\bar{x} = \\frac{1}{N} \\sum_{i=1}^{N}x_i $$\n",
    "\n",
    "Using the python skills you have learned so far, create a function `get_mean()` to perform the following tasks: \n",
    "* Input a list of numbers (like the height list we have above)\n",
    "* calculate the sum of numbers and length of the list \n",
    "* Calculate mean from above, round off to 2 decimals and return it."
   ]
  },
  {
   "cell_type": "code",
   "execution_count": 11,
   "metadata": {},
   "outputs": [
    {
     "name": "stdout",
     "output_type": "stream",
     "text": [
      "(3.0, 3.002)\n",
      "(2.5, 2.5)\n"
     ]
    }
   ],
   "source": [
    "def get_mean(data):\n",
    "\n",
    "    count = 0 #start with the counter\n",
    "    for i in data: #begin with a for loop\n",
    "        count += i #notice how the counter here having an i function is\n",
    "    mean = round(count / len(data), 2) #round(number, number of digits) is the function for rounding\n",
    "    nonmeancalc = count / len(data)\n",
    "    \n",
    "    return(mean, nonmeancalc)\n",
    "    #X1 X2 X3 X4 X5\n",
    "    #x_bar = np.sum(X1, X2, X3, X4, X5)/len(X)\n",
    "\n",
    "test1 = [5, 4, 1, 3, 2.01]\n",
    "test2 = [4, 2, 3, 1]\n",
    "\n",
    "print(get_mean(test1))\n",
    "print(get_mean(test2))\n",
    "\n"
   ]
  },
  {
   "cell_type": "markdown",
   "metadata": {},
   "source": [
    "Now we'll test the function by passing in the height list."
   ]
  },
  {
   "cell_type": "code",
   "execution_count": 12,
   "metadata": {},
   "outputs": [
    {
     "name": "stdout",
     "output_type": "stream",
     "text": [
      "Sample Mean: (69.58, 69.57826541274817)\n"
     ]
    }
   ],
   "source": [
    "# After creating the function, pass the height list to the function \n",
    "mean = get_mean(height)\n",
    "\n",
    "# Uncomment following command after coding the function\n",
    "print(\"Sample Mean:\", mean)\n",
    "\n",
    "# Sample Mean: 69.58"
   ]
  },
  {
   "cell_type": "markdown",
   "metadata": {},
   "source": [
    "So we have our mean length, 69.58, and this confirms our observations from the histogram. But we also some outliers in out data above and we know outliers affect the mean calculation by pulling mean value in their direction.  So let's remove these outliers and create a new list to see if our mean shifts of stays. We'll use a threshold of 80 inches, i.e. filter out any values greater than 80. \n",
    " \n",
    "Perform following tasks:\n",
    "\n",
    "* Create a function `filter_list()` that inputs a list \n",
    "* Perform a for loop to iteratively check and append values to a new list if < 80. \n",
    "* Return the new list "
   ]
  },
  {
   "cell_type": "code",
   "execution_count": 13,
   "metadata": {},
   "outputs": [
    {
     "data": {
      "text/plain": [
       "[60, 70]"
      ]
     },
     "execution_count": 13,
     "metadata": {},
     "output_type": "execute_result"
    }
   ],
   "source": [
    "def filter_list(listA): #note listA is the subject of the for loop\n",
    "    listB = []\n",
    "    for l in listA:\n",
    "        if l < 80: #notice here that the append function works because 80 is LARGER than the l variable.\n",
    "            listB.append(l)\n",
    "    return listB\n",
    "\n",
    "test = [60, 70,80, 90]\n",
    "filter_list(test) # [60, 70]\n"
   ]
  },
  {
   "cell_type": "markdown",
   "metadata": {},
   "source": [
    "Great, now we can filter our height list and plot a new histogram for the new list to see if things change considerably.  "
   ]
  },
  {
   "cell_type": "code",
   "execution_count": 14,
   "metadata": {},
   "outputs": [
    {
     "data": {
      "text/plain": [
       "(array([185., 426., 757., 366., 794., 667., 277., 500., 255., 120.]),\n",
       " array([59. , 60.7, 62.4, 64.1, 65.8, 67.5, 69.2, 70.9, 72.6, 74.3, 76. ]),\n",
       " <a list of 10 Patch objects>)"
      ]
     },
     "execution_count": 14,
     "metadata": {},
     "output_type": "execute_result"
    },
    {
     "data": {
      "image/png": "[encoded data removed]",
      "text/plain": [
       "<Figure size 432x288 with 1 Axes>"
      ]
     },
     "metadata": {
      "needs_background": "light"
     },
     "output_type": "display_data"
    }
   ],
   "source": [
    "# Filter the height list using the above function\n",
    "plt.hist(filter_list(height))"
   ]
  },
  {
   "cell_type": "markdown",
   "metadata": {},
   "source": [
    "Now that we have filtered the outliers out of our data, let's recreate our histogram using our filtered data. \n",
    "\n",
    "In the cell below:\n",
    "\n",
    "* Use `filter_list` to filter `height` and store the result in the variable `filtered_height`\n",
    "* Create a histogram of `filtered_height` with 8 bins, the same as we did above. \n",
    "\n",
    "**_NOTE_**: You do not need to reimport matplotlib--once it's been imported once, it's stored in memory and can be accessed whenever we like in other cells. "
   ]
  },
  {
   "cell_type": "code",
   "execution_count": 15,
   "metadata": {},
   "outputs": [],
   "source": [
    "filtered_height = filter_list(height)\n"
   ]
  },
  {
   "cell_type": "markdown",
   "metadata": {},
   "source": [
    "Since we've filtered our data to remove outliers, we should also recalculate the mean.  Do this now in the cell below. "
   ]
  },
  {
   "cell_type": "code",
   "execution_count": 16,
   "metadata": {},
   "outputs": [
    {
     "data": {
      "text/plain": [
       "(66.85, 66.85231193926846)"
      ]
     },
     "execution_count": 16,
     "metadata": {},
     "output_type": "execute_result"
    }
   ],
   "source": [
    "# Get the mean of the new list using our get_mean() function\n",
    "get_mean(filtered_height) #notice that the only reason we are returning multiple values instead of the\n",
    "#standard 66.85 is that Pete and I had changed the get_mean function \n",
    "\n",
    "# 66.85"
   ]
  },
  {
   "cell_type": "markdown",
   "metadata": {},
   "source": [
    "Does the mean height of our filtered data match up with what we see in our histogram of our filtered data?\n",
    "\n",
    "Note that in some analytical situations we may not be able to exclude the outliers in such a naive manner. So, let's go ahead and  calculate other measures of central tendency as well. We'll start by calculating the median value for our original (unfiltered) height data. \n",
    "\n",
    "## Calculating the Median \n",
    "\n",
    "The median is the value directly in the middle of the dataset. In statistical terms, this is the **_Median Quartile_**. If the dataset was sorted from lowest value to highest value, the median is the value that would be larger than the first 50% of the data, and smaller than the second 50%.\n",
    "\n",
    "If the dataset has an odd number of values, then the median is the middle number.\n",
    "If the dataset has an even number of values, then we take the mean of the middle two numbers.\n",
    "\n",
    "In the cell below, write a function that takes in an array of numbers and returns the median value for that dataset. Make sure you first check for even / odd and perform computation accordingly. The best approach to calculate the median is as follows:\n",
    "\n",
    "1. Sort the data. \n",
    "2. Check if the data is even or odd. \n",
    "3. Calculate the median of the sorted data, now that you know if the data is even or odd. \n",
    "\n",
    "(Hint: Recall that you can use modulo operator `%` in python to check if a value is even or odd--odd numbers `% 2` will equal `1`, while even numbers `% 2` will equal `0`!)"
   ]
  },
  {
   "cell_type": "code",
   "execution_count": 17,
   "metadata": {},
   "outputs": [
    {
     "name": "stdout",
     "output_type": "stream",
     "text": [
      "3\n",
      "2.5\n"
     ]
    }
   ],
   "source": [
    "def get_median(data):\n",
    "\n",
    "    data_sorted = sorted(data) #sorted is a function I should use more often. Everything else works because we sorted first.\n",
    "\n",
    "    if len(data_sorted) % 2 == 0: #If it is an even number- this is because when you divide it by 2 it has a remainder of 0\n",
    "        val1_index = int((len(data_sorted) / 2) - 1) #the lentgh of the sorted data in integer form\n",
    "        val2_index = val1_index + 1 #the length of the sorted data in integer form plus one. This is used to 'split' for the median values for even numbers.\n",
    "        return (data_sorted[val1_index] + data_sorted[val2_index]) / 2 #in median values for even numbers you take the first middle value and the second middle value and you made the median between the two\n",
    "\n",
    "    else:\n",
    "        med_index = (len(data_sorted) // 2) #this is for odd numbers - the reason that the // symbol works is that it performs\n",
    "        #floor division. // is floor division. In an odd number this will return the median. 9 // 2 = 5\n",
    "        return data_sorted[med_index]\n",
    "\n",
    "test1 = [5, 4, 1, 3, 2]\n",
    "test2 = [4, 2, 3, 1]\n",
    "\n",
    "print(get_median(test1)) # 3\n",
    "print(get_median(test2)) # 2.5"
   ]
  },
  {
   "cell_type": "markdown",
   "metadata": {},
   "source": [
    "Great, now we can pass in our height list to this function to check the median. "
   ]
  },
  {
   "cell_type": "code",
   "execution_count": 18,
   "metadata": {},
   "outputs": [
    {
     "data": {
      "text/plain": [
       "67"
      ]
     },
     "execution_count": 18,
     "metadata": {},
     "output_type": "execute_result"
    }
   ],
   "source": [
    "get_median(height)\n",
    "# 67"
   ]
  },
  {
   "cell_type": "markdown",
   "metadata": {},
   "source": [
    "So we have 67, which is much closer to the filtered list mean (66.85) than the mean we calculated with actual list (69.58). So median in this case seems to be a much better indicator of the central tendency found in the dataset. This makes sense because we've already learned that medians are less sensitive to outliers than mean values are! \n",
    "\n",
    "Next, we'll calculate the Mode. This could give us better insight into the typical values in the dataset based on how frequent a value is.  \n",
    "\n",
    "## Calculating the Mode\n",
    "\n",
    "The mode is the value that shows up the most in a dataset. A dataset can have 0 or more modes. If no value shows up more than once, the dataset is considered to have no mode value. If two numbers show up the same number of times, that dataset is considered bimodal. Datasets where multiple values all show up the same number of times are considered multimodal.\n",
    "\n",
    "In the cell below, write a function that takes in a list of numbers and returns another list containing the mode value(s). In case of only one mode, the list would have a single element. \n",
    "\n",
    "**_Hint_**: Building a **_Frequency Distribution_** table using dictionaries is probably the easiest way to approach this problem. Use each unique element from the height list as a key, and frequency of this element as the value and build a dictionary. You can then simply identify the keys (heights) with maximum values. "
   ]
  },
  {
   "cell_type": "code",
   "execution_count": 19,
   "metadata": {},
   "outputs": [
    {
     "name": "stdout",
     "output_type": "stream",
     "text": [
      "[5]\n",
      "[1, 5]\n"
     ]
    }
   ],
   "source": [
    "###def get_mode(data):\n",
    "\n",
    "    # Create and populate frequency distribution\n",
    "    ###frequency_dict = {}\n",
    "    \n",
    "    # For all elements in the list:\n",
    "    # If an element is not in the dictionary, add it with value 1\n",
    "    # If an element is already in the dictionary, +1 the value\n",
    "    \n",
    "    \n",
    "    # Create a list for mode values\n",
    "    ###modes = []\n",
    "    \n",
    "    #from the dictionary, add element(s) to the modes list with max frequency\n",
    "\n",
    "    # Return the mode list \n",
    "    ###return modes\n",
    "\n",
    "###test1 = [1, 2, 3, 5, 5, 4]\n",
    "###test2 = [1, 1, 1, 2, 3, 4, 5, 5, 5]\n",
    "\n",
    "###print(get_mode(test1)) # [5]\n",
    "###print(get_mode(test2)) # [1, 5]\n",
    "\n",
    "\n",
    "def get_mode(data):\n",
    "\n",
    "    # Create and populate frequency distribution\n",
    "    frequency_dict = {}\n",
    "    \n",
    "    # If an element is not in the dictionary , add it with value 1\n",
    "    # If an element is already in the dictionary , +1 the value\n",
    "    for i in data:\n",
    "        if i not in frequency_dict:\n",
    "            frequency_dict[i] = 1 ### This is a frequency counter\n",
    "        else:\n",
    "            frequency_dict[i] += 1 ### If the is in the frequency then you add one to it\n",
    "    \n",
    "    # Create alist for mode values\n",
    "    modes = []\n",
    "    \n",
    "    \n",
    "\n",
    "    \n",
    "    highest_freq = max(frequency_dict.values()) #the key here is the max. \n",
    "    for key, val in frequency_dict.items(): #the difference between the values method and the items method is that the items method returns\n",
    "        #everything in the dictionary whereas the values method only returns the values (key, values)\n",
    "        if val == highest_freq: #If the value (the number of iterations in our previous function) equals\n",
    "            #the highest_freq (our previously defined function of the max) then you append the return value\n",
    "            #(moded) with the KEY for the dictionary. The key for the first value here is 5.\n",
    "            modes.append(key)\n",
    "    # Return the mode list \n",
    "    return modes\n",
    "\n",
    "test1 = [1, 2, 3, 5, 5, 4]\n",
    "test2 = [1, 1, 1, 2, 3, 4, 5, 5, 5]\n",
    "print(get_mode(test1)) # [5]\n",
    "print(get_mode(test2)) # [1, 5]"
   ]
  },
  {
   "cell_type": "markdown",
   "metadata": {},
   "source": [
    "That's done. Now can see calculate mode and compare it with our mean and median values. "
   ]
  },
  {
   "cell_type": "code",
   "execution_count": 20,
   "metadata": {
    "scrolled": true
   },
   "outputs": [
    {
     "data": {
      "text/plain": [
       "[64]"
      ]
     },
     "execution_count": 20,
     "metadata": {},
     "output_type": "execute_result"
    }
   ],
   "source": [
    "get_mode(height)"
   ]
  },
  {
   "cell_type": "markdown",
   "metadata": {},
   "source": [
    "So the mode value is much lower than our mean and median calculated earlier. What do you make of this? The answer to that could be subjective and depends on the problem. i.e. If your problem is to identify sizes for garments that would sell the most, you can not disregard mode. However, if you want to get an idea about the general or typical height of individuals, you can probably still do that with the median and the average. \n",
    "\n",
    "To get an even clearer picture, We know we need to see how much the values deviate from the central values we have identified. We have seen variance and standard deviation before as measures of such dispersion. Let's have a go at these to strengthen our understanding of this data. \n",
    "\n",
    "\n",
    "## Calculating the Variance\n",
    "\n",
    "The formula for variance has been shown earlier as: \n",
    "\n",
    "$$ \\Large \\sigma^2 = \\frac{1}{n} \\sum_{i=1}^{n}(x_i - \\bar{x})^2 $$\n",
    "\n",
    "You are required to write a function In the cell below, that takes an array of numbers as input and returns the variance of the sample as output."
   ]
  },
  {
   "cell_type": "code",
   "execution_count": 22,
   "metadata": {},
   "outputs": [
    {
     "name": "stdout",
     "output_type": "stream",
     "text": [
      "2.22\n",
      "(3.33, 3.3333333333333335)\n",
      "2.89\n"
     ]
    }
   ],
   "source": [
    "####NEED TO STUDY THIS ONE - HARD TO DO THIS WHEN I DONT FULLY UNDERSTAND VARIANCE\n",
    "\n",
    "def get_variance(sample):\n",
    "\n",
    "    # First, calculate the sample mean\n",
    "    N = len(sample)\n",
    "    total = sum(sample)\n",
    "    sample_mean = total/N\n",
    "    \n",
    "    # Now, subtract the sample mean from each point and square the result. \n",
    "    val_minus_mu_accumulator = 0\n",
    "    for i in sample:\n",
    "        val_minus_mu_accumulator += (i - sample_mean)**2\n",
    "    \n",
    "    # Divde the total by the number of items in the sample  \n",
    "    variance = val_minus_mu_accumulator / N\n",
    "    \n",
    "    return round(variance, 2)\n",
    "\n",
    "test1 = [1, 2, 3, 5, 5, 4]\n",
    "test2 = [1, 1, 1, 2, 3, 4, 5, 5, 5]\n",
    "print(get_variance(test1)) # 3.2\n",
    "print(get_mean(test1))\n",
    "print(get_variance(test2)) # 3.4"
   ]
  },
  {
   "cell_type": "markdown",
   "metadata": {},
   "source": [
    "Now we can test the variance of our height list with our new `get_variance()` function. "
   ]
  },
  {
   "cell_type": "code",
   "execution_count": null,
   "metadata": {},
   "outputs": [],
   "source": [
    "get_variance(height)\n",
    "# 87.74"
   ]
  },
  {
   "cell_type": "markdown",
   "metadata": {},
   "source": [
    "So this value, as we learned earlier, tells us a bit about the deviation but not in the units of underlying data. This is because it squares the values of deviations. Standard deviation, however, can deal with this issue as it takes the square roots of differences. So that would probably be a bit more revealing. \n",
    "\n",
    "## Calculating the Standard Deviation\n",
    "\n",
    "In the cell below, write a function that takes an array of numbers as input and returns the standard deviation of that sample as output.\n",
    "\n",
    "Recall that the formula for Standard Deviation is:\n",
    "\n",
    "$$ \\Large\\sigma = \\sqrt{\\frac{1}{n} \\sum_{i=1}^{n}(x_i - \\bar{x})^2} $$\n",
    "\n",
    "you would need `sqrt` method from `math` library to calculate the square root.\n",
    "\n",
    "**Note:** *Alternatively, another approach to finding the square root of a number would be to raise that number to the power of `0.5`. For example, if we wanted to find the square root of `100`, we could raise `100` to the power of `0.5`, which would give us the number `10.0`. However, **either** approach will work.*\n",
    "\n",
    "```python\n",
    "100**0.5\n",
    "# 10.0\n",
    "\n",
    "from math import sqrt\n",
    "sqrt(100)\n",
    "# 10.0\n",
    "```"
   ]
  },
  {
   "cell_type": "code",
   "execution_count": 23,
   "metadata": {},
   "outputs": [
    {
     "name": "stdout",
     "output_type": "stream",
     "text": [
      "76.71\n"
     ]
    }
   ],
   "source": [
    "from math import sqrt #This whole function basically looks like it's calculating the square root of the variance\n",
    "#i believe that's how standard deviation works\n",
    "\n",
    "def get_stddev(list):\n",
    "    \n",
    "    stddev = sqrt(get_variance(list))\n",
    "    \n",
    "    return round(stddev, 2) \n",
    "\n",
    "test = [120,112,131,211,312,90]\n",
    "\n",
    "print (get_stddev(test))"
   ]
  },
  {
   "cell_type": "markdown",
   "metadata": {},
   "source": [
    "So now we can finally calculate standard deviation for our height list and inspect the results. "
   ]
  },
  {
   "cell_type": "code",
   "execution_count": 24,
   "metadata": {},
   "outputs": [
    {
     "data": {
      "text/plain": [
       "9.37"
      ]
     },
     "execution_count": 24,
     "metadata": {},
     "output_type": "execute_result"
    }
   ],
   "source": [
    "get_stddev(height)\n",
    "# 9.31"
   ]
  },
  {
   "cell_type": "markdown",
   "metadata": {},
   "source": [
    "So 9.31 inches is the amount of deviation present in our dataset. As we are still including outlier values, this might still slightly be affected but these results are now much more reliable. \n",
    "\n",
    "We shall finally build a boxplot for height data and see if it agrees with our understanding for this data that we have developed up to this point. USe the matplotlib's boxplot method with height data and comment on the output \n",
    "\n",
    "## Summary \n",
    "\n",
    "In this lab, we performed a basic, yet detailed statistical analysis around measuring the tendencies of center and spread in a given dataset. We looked at building a number of functions to calculate different measures and also used some statistical visualizations to strengthen our intuitions around the dataset. We shall see how we can simplify this process as we study numpy and pandas libraries to ease out the programming load while calculating basic statistics. "
   ]
  }
 ],
 "metadata": {
  "kernelspec": {
   "display_name": "Python 3",
   "language": "python",
   "name": "python3"
  },
  "language_info": {
   "codemirror_mode": {
    "name": "ipython",
    "version": 3
   },
   "file_extension": ".py",
   "mimetype": "text/x-python",
   "name": "python",
   "nbconvert_exporter": "python",
   "pygments_lexer": "ipython3",
   "version": "3.6.6"
  }
 },
 "nbformat": 4,
 "nbformat_minor": 2
}
